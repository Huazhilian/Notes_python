{
 "cells": [
  {
   "cell_type": "code",
   "execution_count": 17,
   "metadata": {},
   "outputs": [
    {
     "name": "stdout",
     "output_type": "stream",
     "text": [
      "de\n"
     ]
    }
   ],
   "source": [
    "#matching game: iterable removes adjacent matching character\n",
    "a ='cbbqqcde'\n",
    "def e(x):\n",
    "    if len(x)==0:\n",
    "            return 0\n",
    "    if len(x)==1:\n",
    "            return x\n",
    "    for i in range(1,len(x)):\n",
    "        if x[i]==x[i-1]:\n",
    "            x=x[:i-1]+x[i+1:]\n",
    "            return e(x)\n",
    "    return x\n",
    "    \n",
    "print(e(a))"
   ]
  },
  {
   "cell_type": "code",
   "execution_count": null,
   "metadata": {},
   "outputs": [
    {
     "name": "stdout",
     "output_type": "stream",
     "text": [
      "ccde\n"
     ]
    }
   ],
   "source": [
    "#matching game: removes adjacent matching character\n",
    "a ='cbbqqcde'\n",
    "def e(x):\n",
    "    if len(x)==0:\n",
    "            return 0\n",
    "    if len(x)==1:\n",
    "            return x\n",
    "    \n",
    "    i = 1  # Start from the second character\n",
    "    while i < len(x):\n",
    "        if x[i]==x[i-1]:\n",
    "            x=x[:i-1]+x[i+1:]\n",
    "            i-=1  # Adjust index after removal\n",
    "        i += 1\n",
    "    return x\n",
    "    \n",
    "print(e(a))"
   ]
  }
 ],
 "metadata": {
  "kernelspec": {
   "display_name": "Python 3",
   "language": "python",
   "name": "python3"
  },
  "language_info": {
   "codemirror_mode": {
    "name": "ipython",
    "version": 3
   },
   "file_extension": ".py",
   "mimetype": "text/x-python",
   "name": "python",
   "nbconvert_exporter": "python",
   "pygments_lexer": "ipython3",
   "version": "3.13.2"
  }
 },
 "nbformat": 4,
 "nbformat_minor": 2
}
