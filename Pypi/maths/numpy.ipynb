{
 "cells": [
  {
   "cell_type": "markdown",
   "metadata": {},
   "source": [
    "- ### Numpy\n",
    "\n",
    "1. [Array creation](#array-creation)\n",
    "\n",
    "2. [Array attributes](#array-attributes)\n",
    "\n",
    "3. [Array slicing](#array-slicing)\n",
    "\n",
    "4. [Array broadcasting](#array-broadcasting)\n",
    "\n",
    "5. [Array reshaping](#array-reshaping)\n",
    "\n",
    "6. [Array manipulation](#Array-manipulation)\n",
    "\n",
    "7. [Mathematical Functions](#mathematical-functions)\n",
    "\n",
    "8. [Matrix and vector operation](#matrix-and-vector-operation)"
   ]
  },
  {
   "cell_type": "markdown",
   "metadata": {},
   "source": [
    "---"
   ]
  },
  {
   "cell_type": "markdown",
   "metadata": {},
   "source": [
    "- ### Array creation"
   ]
  },
  {
   "cell_type": "code",
   "execution_count": null,
   "metadata": {},
   "outputs": [],
   "source": [
    "%%capture\n",
    "%pip install numpy"
   ]
  },
  {
   "cell_type": "markdown",
   "metadata": {},
   "source": [
    "**array / asarray**"
   ]
  },
  {
   "cell_type": "code",
   "execution_count": null,
   "metadata": {},
   "outputs": [
    {
     "name": "stdout",
     "output_type": "stream",
     "text": [
      "[1 2 3]\n",
      "int64 1 (3,) 3 \n",
      "\n",
      "[[1 2 3]\n",
      " [4 5 6]]\n",
      "int64 2 (2, 3) 6 \n",
      "\n"
     ]
    }
   ],
   "source": [
    "import numpy as np\n",
    "\n",
    "vec=np.array([1, 2, 3]) # 1-dim array\n",
    "print(vec)\n",
    "print(vec.dtype,vec.ndim,vec.shape,vec.size,'\\n') # data attributes\n",
    "\n",
    "mat=np.asarray([(1, 2, 3), [4, 5, 6]]) # using asarray to avoid copying data\n",
    "print(mat) # mixed types [] and () are converted to pure [] type\n",
    "print(mat.dtype,mat.ndim,mat.shape,mat.size,'\\n') # data attributes"
   ]
  },
  {
   "cell_type": "markdown",
   "metadata": {},
   "source": [
    "**arange**"
   ]
  },
  {
   "cell_type": "code",
   "execution_count": 2,
   "metadata": {},
   "outputs": [
    {
     "name": "stdout",
     "output_type": "stream",
     "text": [
      "[1 3 5 7 9] \n",
      "\n",
      "[ 0.  2.  4.  6.  8. 10.] \n",
      "\n",
      "[1.e+00 1.e+01 1.e+02 1.e+03 1.e+04] \n",
      "\n"
     ]
    }
   ],
   "source": [
    "import numpy as np\n",
    "\n",
    "series=np.arange(1, 10, 2) # array with step\n",
    "print(series,'\\n')\n",
    "\n",
    "series2=np.linspace(0, 10, 6) # array with specified number of elements\n",
    "print(series2,'\\n')\n",
    "\n",
    "series3=np.logspace(0, 4, 5) # logarithmically spaced array with default base 10\n",
    "print(series3,'\\n')"
   ]
  },
  {
   "cell_type": "markdown",
   "metadata": {},
   "source": [
    "**empty/zeros/ones**"
   ]
  },
  {
   "cell_type": "code",
   "execution_count": 3,
   "metadata": {},
   "outputs": [
    {
     "name": "stdout",
     "output_type": "stream",
     "text": [
      "[[0 0 0]\n",
      " [0 0 0]\n",
      " [0 0 0]] \n",
      "\n",
      "[[0. 0.]\n",
      " [0. 0.]] \n",
      "\n",
      "[1. 1.] \n",
      "\n",
      "[0. 0.] \n",
      "\n",
      "[1. 1.] \n",
      "\n",
      "[[7 7]\n",
      " [7 7]] \n",
      "\n"
     ]
    }
   ],
   "source": [
    "import numpy as np\n",
    "\n",
    "a=np.empty((3, 3),dtype=int) # empty array\n",
    "print(a,'\\n')\n",
    "\n",
    "b=np.zeros((2, 2),dtype=float) # zeros array\n",
    "print(b,'\\n')\n",
    "\n",
    "c=np.ones((2),dtype=float) # ones array\n",
    "print(c,'\\n')\n",
    "\n",
    "d=np.zeros_like(c) # zeros like shape of c\n",
    "print(d,'\\n')\n",
    "\n",
    "e=np.ones_like(d) # ones like shape of d\n",
    "print(e,'\\n')\n",
    "\n",
    "f=np.full((2, 2), 7) # full array with constant value\n",
    "print(f,'\\n')"
   ]
  },
  {
   "cell_type": "markdown",
   "metadata": {},
   "source": [
    "**from buffer/iterator**"
   ]
  },
  {
   "cell_type": "code",
   "execution_count": null,
   "metadata": {},
   "outputs": [
    {
     "name": "stdout",
     "output_type": "stream",
     "text": [
      "[b'H' b'e' b'l' b'l' b'o' b' ' b'W' b'o' b'r' b'l' b'd']\n",
      "[0. 1. 2. 3. 4. 5. 6. 7. 8. 9.]\n"
     ]
    }
   ],
   "source": [
    "import numpy as np\n",
    "\n",
    "st=b'Hello World'\n",
    "arr=np.frombuffer(st,dtype='S1') # from buffer\n",
    "print(arr)\n",
    "\n",
    "list=range(10)\n",
    "iter=iter(list)\n",
    "arr=np.fromiter(iter, dtype=float) # from iterator\n",
    "print(arr)"
   ]
  },
  {
   "cell_type": "markdown",
   "metadata": {},
   "source": [
    "---"
   ]
  },
  {
   "cell_type": "markdown",
   "metadata": {},
   "source": [
    "- ### Array attributes"
   ]
  },
  {
   "cell_type": "markdown",
   "metadata": {},
   "source": [
    "**dtype/nidm/shape/size**"
   ]
  },
  {
   "cell_type": "code",
   "execution_count": 67,
   "metadata": {},
   "outputs": [
    {
     "name": "stdout",
     "output_type": "stream",
     "text": [
      "[[1.+0.j 2.+0.j]\n",
      " [3.+0.j 4.+0.j]]\n",
      "complex128 2 (2, 2) 4 \n",
      "\n",
      "[[1. 2.]\n",
      " [3. 4.]] \n",
      "\n",
      "[[0. 0.]\n",
      " [0. 0.]]\n"
     ]
    }
   ],
   "source": [
    "arr=np.array([[1, 2], [3,4]],ndmin=2,dtype=complex) # dtype\n",
    "print(arr)\n",
    "print(arr.dtype,arr.ndim,arr.shape,arr.size,'\\n') # data attributes\n",
    "print(arr.real,'\\n')\n",
    "print(arr.imag) # real and imaginary parts"
   ]
  },
  {
   "cell_type": "code",
   "execution_count": 25,
   "metadata": {},
   "outputs": [
    {
     "name": "stdout",
     "output_type": "stream",
     "text": [
      "[(b'abc', 21, 50.) (b'xyz', 18, 75.)]\n",
      "1\n",
      "(2,)\n"
     ]
    }
   ],
   "source": [
    "student=[('name', 'S20'), ('age', 'i4'), ('marks', 'f4')]\n",
    "a = np.array([('abc', 21, 50),('xyz', 18, 75)],dtype=student) # structured array\n",
    "print(a)\n",
    "print(a.ndim)\n",
    "print(a.shape)"
   ]
  },
  {
   "cell_type": "markdown",
   "metadata": {},
   "source": [
    "---"
   ]
  },
  {
   "cell_type": "markdown",
   "metadata": {},
   "source": [
    "- ### Array slicing"
   ]
  },
  {
   "cell_type": "markdown",
   "metadata": {},
   "source": [
    "**slice**"
   ]
  },
  {
   "cell_type": "code",
   "execution_count": 114,
   "metadata": {},
   "outputs": [
    {
     "name": "stdout",
     "output_type": "stream",
     "text": [
      "[[ 0  1  2]\n",
      " [ 3  4  5]\n",
      " [ 6  7  8]\n",
      " [ 9 10 11]\n",
      " [12 13 14]] \n",
      "\n",
      "[[ 0  1  2]\n",
      " [ 6  7  8]\n",
      " [12 13 14]] \n",
      "\n",
      "[[ 0  1  2]\n",
      " [ 6  7  8]\n",
      " [12 13 14]] \n",
      "\n",
      "[[ 0  0  0]\n",
      " [ 3  4  5]\n",
      " [ 0  0  0]\n",
      " [ 9 10 11]\n",
      " [ 0  0  0]] \n",
      "\n",
      "[ 0  4  0 10  0]\n"
     ]
    }
   ],
   "source": [
    "import numpy as np\n",
    "\n",
    "arr=np.arange(15).reshape(5,3) # from range\n",
    "print(arr,'\\n')\n",
    "\n",
    "s=slice(0, 9, 2) # slice\n",
    "print(arr[s],'\\n')\n",
    "print(arr[0:9:2],'\\n') # same as above\n",
    "\n",
    "arr[s] = 0 # change values using slice\n",
    "print(arr,'\\n')\n",
    "\n",
    "print(arr[..., 1]) # ellipsis to select all rows and second column"
   ]
  },
  {
   "cell_type": "markdown",
   "metadata": {},
   "source": [
    "**indexing**"
   ]
  },
  {
   "cell_type": "code",
   "execution_count": 15,
   "metadata": {},
   "outputs": [
    {
     "name": "stdout",
     "output_type": "stream",
     "text": [
      "[[ 0  1  2]\n",
      " [ 3  4  5]\n",
      " [ 6  7  8]\n",
      " [ 9 10 11]\n",
      " [12 13 14]] \n",
      "\n",
      "[11  4] \n",
      "\n",
      "[ 9 10 11 12 13 14] \n",
      "\n"
     ]
    }
   ],
   "source": [
    "import numpy as np\n",
    "arr=np.arange(15).reshape(5,3) # from range\n",
    "print(arr,'\\n')\n",
    "\n",
    "rows=np.array([3,1]) # select specific rows\n",
    "cols=np.array([2,1]) # select specific columns\n",
    "x=arr[rows,cols]\n",
    "print(x,'\\n') \n",
    "\n",
    "y=arr[arr>8] # boolean indexing\n",
    "print(y,'\\n')"
   ]
  },
  {
   "cell_type": "code",
   "execution_count": 5,
   "metadata": {},
   "outputs": [
    {
     "name": "stdout",
     "output_type": "stream",
     "text": [
      "[[ 0  1  2]\n",
      " [ 3  4  5]\n",
      " [ 6  7  8]\n",
      " [ 9 10 11]\n",
      " [12 13 14]] \n",
      "\n",
      "[[3 7 9]\n",
      " [8 6 4]] \n",
      "\n"
     ]
    }
   ],
   "source": [
    "import numpy as np\n",
    "arr=np.arange(15).reshape(5,3) # from range\n",
    "print(arr,'\\n')\n",
    "\n",
    "rows=np.array([[1,2,3],[2,2,1]]) # rows index\n",
    "cols=np.array([[0,1,0],[2,0,1]]) # columns index\n",
    "x=arr[rows,cols]\n",
    "print(x,'\\n')"
   ]
  },
  {
   "cell_type": "code",
   "execution_count": 5,
   "metadata": {},
   "outputs": [
    {
     "name": "stdout",
     "output_type": "stream",
     "text": [
      "[[ 0  1  2]\n",
      " [ 3  4  5]\n",
      " [ 6  7  8]\n",
      " [ 9 10 11]\n",
      " [12 13 14]] \n",
      "\n",
      "[[ 4  5]\n",
      " [ 7  8]\n",
      " [10 11]] \n",
      "\n",
      "[[3 4 5]\n",
      " [6 7 8]] \n",
      "\n",
      "[[ 4  5]\n",
      " [10 11]] \n",
      "\n"
     ]
    }
   ],
   "source": [
    "import numpy as np\n",
    "arr=np.arange(15).reshape(5,3) # from range\n",
    "print(arr,'\\n')\n",
    "x=arr[1:4,[1,2]] # select specific rows and columns\n",
    "y=arr[1:3,...]\n",
    "z=arr[1:4:2,1:3] # select specific rows and columns with step\n",
    "print(x,'\\n')\n",
    "print(y,'\\n')\n",
    "print(z,'\\n')"
   ]
  },
  {
   "cell_type": "markdown",
   "metadata": {},
   "source": [
    "**filter**"
   ]
  },
  {
   "cell_type": "code",
   "execution_count": 33,
   "metadata": {},
   "outputs": [
    {
     "name": "stdout",
     "output_type": "stream",
     "text": [
      "[ 1.  2. nan  3. nan  5.] \n",
      "\n",
      "[1. 2. 3. 5.] \n",
      "\n",
      "[3.+4.j] \n",
      "\n"
     ]
    }
   ],
   "source": [
    "import numpy as np\n",
    "arr=np.array([1,2,np.nan,3,np.nan,5]) # array with NaN values\n",
    "print(arr,'\\n')\n",
    "print(arr[~np.isnan(arr)],'\\n') # remove NaN values, ~ is the bitwise NOT operator\n",
    "\n",
    "a=np.array([1, 2, 3+4j])\n",
    "print(a[np.iscomplex(a)],'\\n') # remove complex numbers"
   ]
  },
  {
   "cell_type": "code",
   "execution_count": 11,
   "metadata": {},
   "outputs": [
    {
     "name": "stdout",
     "output_type": "stream",
     "text": [
      "[[ 0  1  2]\n",
      " [ 3  4  5]\n",
      " [ 6  7  8]\n",
      " [ 9 10 11]\n",
      " [12 13 14]] \n",
      "\n",
      "[ 1  8  5 12] \n",
      "\n",
      "[[ 0  1  2]\n",
      " [ 6  7  8]\n",
      " [ 3  4  5]\n",
      " [12 13 14]] \n",
      "\n"
     ]
    }
   ],
   "source": [
    "import numpy as np\n",
    "arr=np.arange(15).reshape(5,3) # from range\n",
    "print(arr,'\\n')\n",
    "x=arr[[0,2,1,4],[1,2,2,0]] # select specific elements using lists\n",
    "y=arr[[0,2,1,4]] # select specific rows using lists\n",
    "print(x,'\\n')\n",
    "print(y,'\\n') \n"
   ]
  },
  {
   "cell_type": "markdown",
   "metadata": {},
   "source": [
    "---"
   ]
  },
  {
   "cell_type": "markdown",
   "metadata": {},
   "source": [
    "- ### Array broadcasting"
   ]
  },
  {
   "cell_type": "markdown",
   "metadata": {},
   "source": [
    "**broadcasting**"
   ]
  },
  {
   "cell_type": "code",
   "execution_count": null,
   "metadata": {},
   "outputs": [
    {
     "name": "stdout",
     "output_type": "stream",
     "text": [
      "(2, 2)\n",
      "1 4\n",
      "2 4\n",
      "1 5\n",
      "2 5\n"
     ]
    }
   ],
   "source": [
    "import numpy as np\n",
    " \n",
    "x = np.array([[1, 2]])\n",
    "y = np.array([[4], [5]])  \n",
    "b = np.broadcast(x, y) # broadcast x and y\n",
    "print(b.shape) # shape of the broadcasted array\n",
    "for x,y in b: # iterate over the broadcasted array\n",
    "    print(x,y)"
   ]
  },
  {
   "cell_type": "code",
   "execution_count": null,
   "metadata": {},
   "outputs": [
    {
     "name": "stdout",
     "output_type": "stream",
     "text": [
      "[[1 2 3]\n",
      " [1 2 3]\n",
      " [1 2 3]] \n",
      "\n"
     ]
    }
   ],
   "source": [
    "import numpy as np\n",
    " \n",
    "x = np.array([[1, 2, 3]])\n",
    "y = np.broadcast_to(x, (3, 3)) # broadcast x to shape (3, 3)\n",
    "print(y,'\\n') # broadcasted array"
   ]
  },
  {
   "cell_type": "markdown",
   "metadata": {},
   "source": [
    "**auto-broadcasting**"
   ]
  },
  {
   "cell_type": "code",
   "execution_count": 28,
   "metadata": {},
   "outputs": [
    {
     "name": "stdout",
     "output_type": "stream",
     "text": [
      "[ 7  9 11] \n",
      "\n",
      "[[2 4 6]\n",
      " [5 7 9]] \n",
      "\n",
      "[[2 4 6]\n",
      " [5 7 9]] \n",
      "\n",
      "[ 6 14 24] \n",
      "\n",
      "[[ 1  4  9]\n",
      " [ 4 10 18]] \n",
      "\n",
      "[[ 1  4  9]\n",
      " [ 4 10 18]] \n",
      "\n"
     ]
    }
   ],
   "source": [
    "import numpy as np\n",
    "arr1=np.array([1, 2, 3])\n",
    "arr2= np.array([6, 7, 8])\n",
    "arr3= np.array([[1, 2, 3], [4, 5, 6]]) # higher dim array\n",
    "arr0=np.tile(arr1, (2, 1)) # tiling arr1 to create a 2D array\n",
    "\n",
    "print(arr1 + arr2,'\\n') # same shape, element-wise addition\n",
    "print(arr1 + arr3,'\\n') # broadcasting addition\n",
    "print(arr0 + arr3,'\\n') # tiling to the same shape, the same with broadcasting\n",
    "\n",
    "print(arr1 * arr2,'\\n') # element-wise multiplication\n",
    "print(arr1 * arr3,'\\n') # broadcasting multiplication\n",
    "print(arr0 * arr3,'\\n') # tiling to the same shape, the same with broadcasting"
   ]
  },
  {
   "cell_type": "markdown",
   "metadata": {},
   "source": [
    "---"
   ]
  },
  {
   "cell_type": "markdown",
   "metadata": {},
   "source": [
    "- ### Array reshaping"
   ]
  },
  {
   "cell_type": "markdown",
   "metadata": {},
   "source": [
    "**nditerator**"
   ]
  },
  {
   "cell_type": "code",
   "execution_count": 1,
   "metadata": {},
   "outputs": [
    {
     "name": "stdout",
     "output_type": "stream",
     "text": [
      "[[ 0  1  2]\n",
      " [ 3  4  5]\n",
      " [ 6  7  8]\n",
      " [ 9 10 11]\n",
      " [12 13 14]] \n",
      "\n",
      "0 1 2 3 4 5 6 7 8 9 10 11 12 13 14 \n",
      "\n",
      "0 1 2 3 4 5 6 7 8 9 10 11 12 13 14 \n",
      "\n",
      "0 3 6 9 12 1 4 7 10 13 2 5 8 11 14 "
     ]
    }
   ],
   "source": [
    "import numpy as np\n",
    "arr=np.arange(15).reshape(5,3) # from range\n",
    "print(arr,'\\n')\n",
    "for x in np.nditer(arr): # iterate over elements in default order\n",
    "    print(x, end=' ')\n",
    "print('\\n')\n",
    "for x in np.nditer(arr.T): # iterate over transposed array\n",
    "    print(x, end=' ')\n",
    "print('\\n')\n",
    "for x in np.nditer(arr, order='F'): # iterate over elements in Fortran order\n",
    "    print(x, end=' ')"
   ]
  },
  {
   "cell_type": "markdown",
   "metadata": {},
   "source": [
    "**reshape & resize**"
   ]
  },
  {
   "cell_type": "code",
   "execution_count": 9,
   "metadata": {},
   "outputs": [
    {
     "name": "stdout",
     "output_type": "stream",
     "text": [
      "[[ 0  5 10 15]\n",
      " [20 25 30 35]\n",
      " [40 45 50 55]] \n",
      "\n",
      "[[ 0  5 10 15]\n",
      " [20 25 30 35]\n",
      " [40 45 50 55]] \n",
      "\n",
      "[[ 0  5 10 15 20 25 30 35]\n",
      " [40 45 50 55  0  5 10 15]\n",
      " [20 25 30 35 40 45 50 55]] \n",
      "\n",
      "(0,0) (5,0) (10,0) (15,0) (20,20) (25,20) (30,20) (35,20) (40,40) (45,40) (50,40) (55,40) "
     ]
    }
   ],
   "source": [
    "import numpy as np\n",
    " \n",
    "a = np.arange(0,60,5).reshape(3,4)\n",
    "b = np.arange(0,60,20).reshape(3,1)\n",
    "c = np.resize(a, (3, 8)) # resize a to the same shape as b\n",
    "print(a,'\\n')\n",
    "print(a,'\\n')\n",
    "print(c,'\\n')\n",
    "\n",
    "for x, y in np.nditer([a, b]): # iterate over two arrays with broadcasting\n",
    "    print(f\"({x},{y})\", end=' ')"
   ]
  },
  {
   "cell_type": "markdown",
   "metadata": {},
   "source": [
    "**flat &  flatten & ravel**"
   ]
  },
  {
   "cell_type": "code",
   "execution_count": 28,
   "metadata": {},
   "outputs": [
    {
     "name": "stdout",
     "output_type": "stream",
     "text": [
      "[[ 0  2  4  6  8]\n",
      " [10 12 14 16 18]] \n",
      "\n",
      "<numpy.flatiter object at 0x000001E2EB00C2B0> \n",
      "\n",
      "0 2 4 6 8 10 12 14 16 18 \n",
      "\n",
      "[ 0  2  4  6  8 10 12 14 16 18]\n",
      "[ 0  2  4  6  8 10 12 14 16 18] \n",
      "\n"
     ]
    }
   ],
   "source": [
    "import numpy as np\n",
    "a = np.arange(0,20,2).reshape(2,5)\n",
    "b = a.flat\n",
    "c = a.flatten() # flatten the array, copying needed\n",
    "\n",
    "print(a,'\\n')\n",
    "print(b,'\\n') # flat iterator\n",
    "for x in b: # iterate over flat iterator\n",
    "    print(x, end=' ')\n",
    "print('\\n')\n",
    "print(c)\n",
    "\n",
    "a=a.ravel() # ravel the array, no copying needed\n",
    "print(a,'\\n')"
   ]
  },
  {
   "cell_type": "markdown",
   "metadata": {},
   "source": [
    "**transpose**"
   ]
  },
  {
   "cell_type": "code",
   "execution_count": null,
   "metadata": {},
   "outputs": [
    {
     "name": "stdout",
     "output_type": "stream",
     "text": [
      "[[1 2 3]\n",
      " [4 5 6]\n",
      " [7 8 9]] \n",
      "\n",
      "[[1 4 7]\n",
      " [2 5 8]\n",
      " [3 6 9]] \n",
      "\n",
      "[[1 4 7]\n",
      " [2 5 8]\n",
      " [3 6 9]]\n"
     ]
    }
   ],
   "source": [
    "import numpy as np\n",
    "\n",
    "m = np.arange(1, 10).reshape(3, 3) # create a 3x3 matrix\n",
    "print(m,'\\n')\n",
    "\n",
    "mt = m.T # transpose\n",
    "print(mt,'\\n')\n",
    "\n",
    "np.transpose(m) # another way to transpose\n",
    "print(np.transpose(m))"
   ]
  },
  {
   "cell_type": "markdown",
   "metadata": {},
   "source": [
    "---"
   ]
  },
  {
   "cell_type": "markdown",
   "metadata": {},
   "source": [
    "- ### Array manipulation"
   ]
  },
  {
   "cell_type": "markdown",
   "metadata": {},
   "source": [
    "**axis**"
   ]
  },
  {
   "cell_type": "code",
   "execution_count": 29,
   "metadata": {},
   "outputs": [
    {
     "name": "stdout",
     "output_type": "stream",
     "text": [
      "[[[ 0  3  6]\n",
      "  [ 9 12 15]]] \n",
      "\n",
      "(1, 2, 3) \n",
      "\n",
      "(array([0]), array([1]), array([2])) \n",
      "\n",
      "[[[ 0]\n",
      "  [ 3]\n",
      "  [ 6]]\n",
      "\n",
      " [[ 9]\n",
      "  [12]\n",
      "  [15]]] \n",
      "\n",
      "(2, 3, 1) \n",
      "\n",
      "(array([1]), array([2]), array([0])) \n",
      "\n",
      "[[[ 0]\n",
      "  [ 9]]\n",
      "\n",
      " [[ 3]\n",
      "  [12]]\n",
      "\n",
      " [[ 6]\n",
      "  [15]]] \n",
      "\n",
      "(3, 2, 1) \n",
      "\n",
      "(array([2]), array([1]), array([0])) \n",
      "\n"
     ]
    }
   ],
   "source": [
    "import numpy as np\n",
    "\n",
    "a = np.arange(0,18,3).reshape(1,2,3) # create a 3x3x3 matrix\n",
    "print(a,'\\n')\n",
    "print(a.shape,'\\n')\n",
    "e= np.where(a==15) # find elements equal to 10\n",
    "print(e,'\\n')\n",
    "\n",
    "b = np.moveaxis(a,0,2) # shift axis 0 to axis 1\n",
    "print(b,'\\n')\n",
    "print(b.shape,'\\n')\n",
    "f= np.where(b==15) # find elements equal to 10\n",
    "print(f,'\\n')\n",
    "\n",
    "c = np.swapaxes(a,0,2) # swap axis 0 and axis 1\n",
    "print(c,'\\n')\n",
    "print(c.shape,'\\n')\n",
    "g= np.where(c==15) # find elements equal to 10\n",
    "print(g,'\\n')"
   ]
  },
  {
   "cell_type": "markdown",
   "metadata": {},
   "source": [
    "**dimension**"
   ]
  },
  {
   "cell_type": "code",
   "execution_count": 15,
   "metadata": {},
   "outputs": [
    {
     "name": "stdout",
     "output_type": "stream",
     "text": [
      "(1, 3)\n",
      "(1, 3, 1)\n",
      "(3, 1)\n",
      "\n",
      " [[1 2 3]]\n",
      "\n",
      " [[[1]\n",
      "  [2]\n",
      "  [3]]]\n",
      "\n",
      " [[1]\n",
      " [2]\n",
      " [3]]\n"
     ]
    }
   ],
   "source": [
    "import numpy as np\n",
    "x = np.array([[1, 2, 3]])\n",
    "y = np.expand_dims(x, axis=2) # add a new axis at the beginning\n",
    "z = np.squeeze(y, axis=0) # remove the new axis\n",
    "print(x.shape) # original shape\n",
    "print(y.shape) # shape after adding a new axis\n",
    "print(z.shape) # shape after removing the new axis\n",
    "print('\\n',x) # array after adding a new axis\n",
    "print('\\n',y) # array after adding a new axis\n",
    "print('\\n',z) # array after adding a new axis"
   ]
  },
  {
   "cell_type": "markdown",
   "metadata": {},
   "source": [
    "**merge**"
   ]
  },
  {
   "cell_type": "code",
   "execution_count": 19,
   "metadata": {},
   "outputs": [
    {
     "name": "stdout",
     "output_type": "stream",
     "text": [
      "[[ 1  2  3]\n",
      " [ 4  5  6]\n",
      " [ 7  8  9]\n",
      " [10 11 12]] \n",
      "\n",
      "[[ 1  2  3  7  8  9]\n",
      " [ 4  5  6 10 11 12]] \n",
      "\n",
      "(2, 3)\n",
      "(2, 3)\n",
      "(4, 3)\n",
      "(2, 6)\n"
     ]
    }
   ],
   "source": [
    "import numpy as np\n",
    "x = np.array([[1, 2, 3], [4, 5, 6]])\n",
    "y = np.array([[7, 8, 9], [10, 11, 12]])\n",
    "z = np.concatenate((x, y), axis=0) # concatenate along axis 0\n",
    "w = np.concatenate((x, y), axis=1) # concatenate along axis 1\n",
    "print(z,'\\n') # concatenated array\n",
    "print(w,'\\n') # concatenated array\n",
    "print(x.shape) # shape of x\n",
    "print(y.shape) # shape of y\n",
    "print(z.shape) # shape of z\n",
    "print(w.shape) # shape of w"
   ]
  },
  {
   "cell_type": "markdown",
   "metadata": {},
   "source": [
    "**stack**"
   ]
  },
  {
   "cell_type": "code",
   "execution_count": 7,
   "metadata": {},
   "outputs": [
    {
     "name": "stdout",
     "output_type": "stream",
     "text": [
      "(2, 3)\n",
      "(2, 3)\n",
      "(2, 2, 3)\n",
      "(2, 2, 3)\n",
      "(2, 6)\n",
      "(4, 3)\n",
      "[[[ 1  2  3]\n",
      "  [ 4  5  6]]\n",
      "\n",
      " [[ 7  8  9]\n",
      "  [10 11 12]]] \n",
      "\n",
      "[[[ 1  2  3]\n",
      "  [ 7  8  9]]\n",
      "\n",
      " [[ 4  5  6]\n",
      "  [10 11 12]]] \n",
      "\n",
      "[[ 1  2  3  7  8  9]\n",
      " [ 4  5  6 10 11 12]] \n",
      "\n",
      "[[ 1  2  3]\n",
      " [ 4  5  6]\n",
      " [ 7  8  9]\n",
      " [10 11 12]] \n",
      "\n"
     ]
    }
   ],
   "source": [
    "import numpy as np\n",
    "x = np.array([[1, 2, 3], [4, 5, 6]])\n",
    "y = np.array([[7, 8, 9], [10, 11, 12]])\n",
    "z =np.stack((x, y), axis=0) # stack along axis 0\n",
    "w = np.stack((x, y), axis=1) # stack along axis 1\n",
    "u = np.hstack((x, y)) # horizontal stack\n",
    "v = np.vstack((x, y)) # vertical stack\n",
    "\n",
    "print(x.shape) # shape of x\n",
    "print(y.shape) # shape of y\n",
    "print(z.shape) # shape of z\n",
    "print(w.shape) # shape of w\n",
    "print(u.shape) # shape of z\n",
    "print(v.shape) # shape of w\n",
    "\n",
    "print(z,'\\n') # stacked array\n",
    "print(w,'\\n') # stacked array\n",
    "print(u,'\\n') # stacked array\n",
    "print(v,'\\n') # stacked array"
   ]
  },
  {
   "cell_type": "markdown",
   "metadata": {},
   "source": [
    "**split**"
   ]
  },
  {
   "cell_type": "code",
   "execution_count": 26,
   "metadata": {},
   "outputs": [
    {
     "name": "stdout",
     "output_type": "stream",
     "text": [
      "(2, 2)\n",
      "(1, 2)\n",
      "(2, 1) \n",
      "\n",
      "[[1 2]] \n",
      "\n",
      "[[1]\n",
      " [4]] \n",
      "\n"
     ]
    }
   ],
   "source": [
    "import numpy as np\n",
    "x = np.array([[1, 2], [4, 5]])\n",
    "y = np.split(x, 2, axis=0) # split along axis 0\n",
    "z = np.hsplit(x, 2) # split along axis 1\n",
    "print(x.shape) # shape of x\n",
    "print(y[0].shape) # shape of y\n",
    "print(z[0].shape,'\\n') # shape of z\n",
    "print(y[0],'\\n') # split array along axis 0\n",
    "print(z[0],'\\n') # split array along axis 1"
   ]
  },
  {
   "cell_type": "markdown",
   "metadata": {},
   "source": [
    "**append**"
   ]
  },
  {
   "cell_type": "code",
   "execution_count": 15,
   "metadata": {},
   "outputs": [
    {
     "name": "stdout",
     "output_type": "stream",
     "text": [
      "[[1 2]\n",
      " [4 5]\n",
      " [5 6]\n",
      " [7 8]] \n",
      "\n",
      "[[1 2 5 6]\n",
      " [4 5 7 8]] \n",
      "\n",
      "[1 2 4 5 2 4]\n"
     ]
    }
   ],
   "source": [
    "import numpy as np\n",
    "x = np.array([[1, 2], [4, 5]])\n",
    "y = np.array([[5, 6], [7, 8]])\n",
    "z = np.append(x, y, axis=0) # append along axis 0\n",
    "w = np.append(x, y, axis=1) # append along axis 1\n",
    "u = np.append(x, [2,4])\n",
    "print(z,'\\n') # shape of x\n",
    "print(w,'\\n') # shape of y\n",
    "print(u) # shape of z"
   ]
  },
  {
   "cell_type": "markdown",
   "metadata": {},
   "source": [
    "**insert**"
   ]
  },
  {
   "cell_type": "code",
   "execution_count": 10,
   "metadata": {},
   "outputs": [
    {
     "name": "stdout",
     "output_type": "stream",
     "text": [
      "[[1 2]\n",
      " [5 5]\n",
      " [3 4]] \n",
      "\n",
      "[[1 5 2]\n",
      " [3 5 4]] \n",
      "\n",
      "[ 1  9 10  2  3  4]\n"
     ]
    }
   ],
   "source": [
    "import numpy as np\n",
    "x = np.array([[1, 2], [3, 4]])\n",
    "y = np.array(5)\n",
    "z = np.insert(x, 1, y, axis=0) # insert along axis 0 at index 1\n",
    "w = np.insert(x, 1, y, axis=1) # insert along axis 1 at index 1\n",
    "u = np.insert(x, 1, [9, 10]) # insert at index 1 without axis leads to flattening\n",
    "print(z,'\\n') # shape of x\n",
    "print(w,'\\n') # shape of y\n",
    "print(u) # shape of z"
   ]
  },
  {
   "cell_type": "markdown",
   "metadata": {},
   "source": [
    "**delete**"
   ]
  },
  {
   "cell_type": "code",
   "execution_count": 13,
   "metadata": {},
   "outputs": [
    {
     "name": "stdout",
     "output_type": "stream",
     "text": [
      "[[1 2]] \n",
      "\n",
      "[[1]\n",
      " [3]] \n",
      "\n",
      "[1 2 3]\n"
     ]
    }
   ],
   "source": [
    "import numpy as np\n",
    "x = np.array([[1, 2], [3, 4]])\n",
    "y = np.delete(x, 1, axis=0) # delete along axis 0 at index 1\n",
    "z = np.delete(x, 1, axis=1) # delete along axis 1 at index 1\n",
    "u = np.delete(x, 3) # delete at index 1 without axis leads to flattening\n",
    "print(y,'\\n')\n",
    "print(z,'\\n')\n",
    "print(u) # shape of z "
   ]
  },
  {
   "cell_type": "markdown",
   "metadata": {},
   "source": [
    "**unique**"
   ]
  },
  {
   "cell_type": "code",
   "execution_count": 27,
   "metadata": {},
   "outputs": [
    {
     "name": "stdout",
     "output_type": "stream",
     "text": [
      "[1 2 3 4 5 9] \n",
      "\n",
      "[0 1 2 5 7 4] \n",
      "\n",
      "[1 2 3 4 5 9] \n",
      "\n",
      "[2 1 2 1 1 1] \n",
      "\n"
     ]
    }
   ],
   "source": [
    "import numpy as np\n",
    "x = np.array([1,2,3,3,9,4,1,5]) # create an array with duplicates\n",
    "y = np.unique(x) # find unique elements\n",
    "print(y,'\\n') # unique elements\n",
    "z, indices, counts = np.unique(x, return_index=True, return_counts=True) # find unique elements and their indices\n",
    "print(indices,'\\n') # indices of unique elements\n",
    "print(x[indices],'\\n') # original elements at unique indices\n",
    "print(counts,'\\n') # counts of unique elements"
   ]
  },
  {
   "cell_type": "markdown",
   "metadata": {},
   "source": [
    "- ### Mathematical Functions"
   ]
  },
  {
   "cell_type": "markdown",
   "metadata": {},
   "source": [
    "**elementary functions**"
   ]
  },
  {
   "cell_type": "code",
   "execution_count": 22,
   "metadata": {},
   "outputs": [
    {
     "name": "stdout",
     "output_type": "stream",
     "text": [
      "[0.   0.71 0.87 0.  ] \n",
      "\n",
      "[ 1.    0.71  0.5  -1.  ] \n",
      "\n",
      "[ 0.    1.    1.73 -0.  ] \n",
      "\n",
      "1.633123935319537e+16 \n",
      "\n"
     ]
    }
   ],
   "source": [
    "import numpy as np\n",
    "x = np.array([0,np.pi/4,np.pi/3,np.pi]) # create an array\n",
    "sin = np.sin(x) # sine of elements\n",
    "cos = np.cos(x) # cosine of elements\n",
    "tan = np.tan(x) # tangent of elements\n",
    "print(np.around(sin, decimals=2),'\\n') # sine values\n",
    "print(np.around(cos, decimals=2),'\\n') # cosine values\n",
    "print(np.around(tan, decimals=2),'\\n') # tangent value\n",
    "print(np.tan(np.pi/2),'\\n') # tangent of pi/2, should be inf"
   ]
  },
  {
   "cell_type": "code",
   "execution_count": 9,
   "metadata": {},
   "outputs": [
    {
     "name": "stdout",
     "output_type": "stream",
     "text": [
      "[0.   0.34 0.52 1.57] \n",
      "\n",
      "[1. 1. 1. 0.] \n",
      "\n",
      "[0. 1. 1. 1.] \n",
      "\n"
     ]
    }
   ],
   "source": [
    "import numpy as np\n",
    "x = np.array([0, 1/3, 1/2, 1]) # create an array\n",
    "arcsin = np.arcsin(x) # arcsine of elements\n",
    "arccos = np.arccos(x) # arccosine of elements\n",
    "arctan = np.arctan(x) # arctangent of elements\n",
    "print(np.around(arcsin, decimals=2),'\\n') # arcsine values\n",
    "print(np.floor(arccos),'\\n') # arccosine values\n",
    "print(np.ceil(arctan),'\\n') # arctangent values"
   ]
  },
  {
   "cell_type": "markdown",
   "metadata": {},
   "source": [
    "**elementary operator**"
   ]
  },
  {
   "cell_type": "code",
   "execution_count": 15,
   "metadata": {},
   "outputs": [
    {
     "name": "stdout",
     "output_type": "stream",
     "text": [
      "[[15 17 19 21]\n",
      " [19 21 23 25]] \n",
      "\n",
      "[[-9 -9 -9 -9]\n",
      " [-5 -5 -5 -5]] \n",
      "\n",
      "[[ 36  52  70  90]\n",
      " [ 84 104 126 150]] \n",
      "\n",
      "[[0.25       0.30769231 0.35714286 0.4       ]\n",
      " [0.58333333 0.61538462 0.64285714 0.66666667]] \n",
      "\n"
     ]
    }
   ],
   "source": [
    "import numpy as np\n",
    "a = np.array([[3, 4, 5, 6],[7, 8, 9, 10]])\n",
    "b = np.array([12, 13, 14, 15])\n",
    "c = np.add(a, b) # element-wise addition\n",
    "d = np.subtract(a, b) # element-wise subtraction\n",
    "e = np.multiply(a, b) # element-wise multiplication\n",
    "f = np.divide(a, b) # element-wise division\n",
    "print(c,'\\n') # addition result\n",
    "print(d,'\\n') # subtraction result\n",
    "print(e,'\\n') # multiplication result\n",
    "print(f,'\\n') # division result"
   ]
  },
  {
   "cell_type": "markdown",
   "metadata": {},
   "source": [
    "---"
   ]
  },
  {
   "cell_type": "markdown",
   "metadata": {},
   "source": [
    "- ### Matrix and vector operation\n",
    "\n",
    "**matrix multi and vector dot product**"
   ]
  },
  {
   "cell_type": "code",
   "execution_count": 3,
   "metadata": {},
   "outputs": [
    {
     "name": "stdout",
     "output_type": "stream",
     "text": [
      "[[37 40]\n",
      " [85 92]] \n",
      "\n",
      "[[37 40]\n",
      " [85 92]] \n",
      "\n",
      "[[[ 2  3]\n",
      "  [ 6 11]]\n",
      "\n",
      " [[46 55]\n",
      "  [66 79]]] \n",
      "\n",
      "130 \n",
      "\n",
      "[[35 41]\n",
      " [81 95]] \n",
      "\n"
     ]
    }
   ],
   "source": [
    "import numpy as np\n",
    "\n",
    "a=np.array([[1,2],[3,4]])\n",
    "b=np.array([[11,12],[13,14]])\n",
    "c=d=np.arange(8).reshape(2,2,2)\n",
    "\n",
    "print(np.dot(a,b),'\\n') # matrix and vector mixed product\n",
    "print(np.matmul(a,b),'\\n') # matrix multi\n",
    "print(np.matmul(c,d),'\\n') # matrix multi with 3d arrays\n",
    "print(np.vdot(a,b),'\\n') # flatten to vector dot product\n",
    "print(np.inner(a,b),'\\n') # component-wise inner product"
   ]
  },
  {
   "cell_type": "markdown",
   "metadata": {},
   "source": [
    "**linear algebra**\n"
   ]
  },
  {
   "cell_type": "code",
   "execution_count": 6,
   "metadata": {},
   "outputs": [
    {
     "name": "stdout",
     "output_type": "stream",
     "text": [
      "-2.0 \n",
      "\n",
      "[[0. ]\n",
      " [0.5]] \n",
      "\n",
      "[[0. ]\n",
      " [0.5]]\n"
     ]
    }
   ],
   "source": [
    "import numpy as np\n",
    "a=np.array([[1,2],[3,4]])\n",
    "b=np.array([[1],[2]])\n",
    "det=np.linalg.det(a)\n",
    "sol=np.linalg.solve(a,b)\n",
    "print(np.around(det,2),'\\n',)\n",
    "print(sol,'\\n')\n",
    "print(np.dot(np.linalg.inv(a),b))"
   ]
  }
 ],
 "metadata": {
  "kernelspec": {
   "display_name": "Python 3",
   "language": "python",
   "name": "python3"
  },
  "language_info": {
   "codemirror_mode": {
    "name": "ipython",
    "version": 3
   },
   "file_extension": ".py",
   "mimetype": "text/x-python",
   "name": "python",
   "nbconvert_exporter": "python",
   "pygments_lexer": "ipython3",
   "version": "3.13.2"
  }
 },
 "nbformat": 4,
 "nbformat_minor": 2
}
